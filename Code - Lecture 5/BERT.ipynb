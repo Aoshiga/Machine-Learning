{
 "cells": [
  {
   "cell_type": "markdown",
   "metadata": {},
   "source": [
    "# BERT"
   ]
  },
  {
   "cell_type": "code",
   "execution_count": 1,
   "metadata": {},
   "outputs": [
    {
     "name": "stderr",
     "output_type": "stream",
     "text": [
      "/anaconda3/lib/python3.6/site-packages/tensorflow/python/framework/dtypes.py:519: FutureWarning: Passing (type, 1) or '1type' as a synonym of type is deprecated; in a future version of numpy, it will be understood as (type, (1,)) / '(1,)type'.\n",
      "  _np_qint8 = np.dtype([(\"qint8\", np.int8, 1)])\n",
      "/anaconda3/lib/python3.6/site-packages/tensorflow/python/framework/dtypes.py:520: FutureWarning: Passing (type, 1) or '1type' as a synonym of type is deprecated; in a future version of numpy, it will be understood as (type, (1,)) / '(1,)type'.\n",
      "  _np_quint8 = np.dtype([(\"quint8\", np.uint8, 1)])\n",
      "/anaconda3/lib/python3.6/site-packages/tensorflow/python/framework/dtypes.py:521: FutureWarning: Passing (type, 1) or '1type' as a synonym of type is deprecated; in a future version of numpy, it will be understood as (type, (1,)) / '(1,)type'.\n",
      "  _np_qint16 = np.dtype([(\"qint16\", np.int16, 1)])\n",
      "/anaconda3/lib/python3.6/site-packages/tensorflow/python/framework/dtypes.py:522: FutureWarning: Passing (type, 1) or '1type' as a synonym of type is deprecated; in a future version of numpy, it will be understood as (type, (1,)) / '(1,)type'.\n",
      "  _np_quint16 = np.dtype([(\"quint16\", np.uint16, 1)])\n",
      "/anaconda3/lib/python3.6/site-packages/tensorflow/python/framework/dtypes.py:523: FutureWarning: Passing (type, 1) or '1type' as a synonym of type is deprecated; in a future version of numpy, it will be understood as (type, (1,)) / '(1,)type'.\n",
      "  _np_qint32 = np.dtype([(\"qint32\", np.int32, 1)])\n",
      "/anaconda3/lib/python3.6/site-packages/tensorflow/python/framework/dtypes.py:528: FutureWarning: Passing (type, 1) or '1type' as a synonym of type is deprecated; in a future version of numpy, it will be understood as (type, (1,)) / '(1,)type'.\n",
      "  np_resource = np.dtype([(\"resource\", np.ubyte, 1)])\n"
     ]
    },
    {
     "ename": "SystemError",
     "evalue": "GPU device not found",
     "output_type": "error",
     "traceback": [
      "\u001b[0;31m---------------------------------------------------------------------------\u001b[0m",
      "\u001b[0;31mSystemError\u001b[0m                               Traceback (most recent call last)",
      "\u001b[0;32m<ipython-input-1-6f456fefac55>\u001b[0m in \u001b[0;36m<module>\u001b[0;34m\u001b[0m\n\u001b[1;32m      4\u001b[0m \u001b[0mdevice_name\u001b[0m \u001b[0;34m=\u001b[0m \u001b[0mtf\u001b[0m\u001b[0;34m.\u001b[0m\u001b[0mtest\u001b[0m\u001b[0;34m.\u001b[0m\u001b[0mgpu_device_name\u001b[0m\u001b[0;34m(\u001b[0m\u001b[0;34m)\u001b[0m\u001b[0;34m\u001b[0m\u001b[0;34m\u001b[0m\u001b[0m\n\u001b[1;32m      5\u001b[0m \u001b[0;32mif\u001b[0m \u001b[0mdevice_name\u001b[0m \u001b[0;34m!=\u001b[0m \u001b[0;34m'/device:GPU:0'\u001b[0m\u001b[0;34m:\u001b[0m\u001b[0;34m\u001b[0m\u001b[0;34m\u001b[0m\u001b[0m\n\u001b[0;32m----> 6\u001b[0;31m   \u001b[0;32mraise\u001b[0m \u001b[0mSystemError\u001b[0m\u001b[0;34m(\u001b[0m\u001b[0;34m'GPU device not found'\u001b[0m\u001b[0;34m)\u001b[0m\u001b[0;34m\u001b[0m\u001b[0;34m\u001b[0m\u001b[0m\n\u001b[0m\u001b[1;32m      7\u001b[0m \u001b[0mprint\u001b[0m\u001b[0;34m(\u001b[0m\u001b[0;34m'Found GPU at: {}'\u001b[0m\u001b[0;34m.\u001b[0m\u001b[0mformat\u001b[0m\u001b[0;34m(\u001b[0m\u001b[0mdevice_name\u001b[0m\u001b[0;34m)\u001b[0m\u001b[0;34m)\u001b[0m\u001b[0;34m\u001b[0m\u001b[0;34m\u001b[0m\u001b[0m\n",
      "\u001b[0;31mSystemError\u001b[0m: GPU device not found"
     ]
    }
   ],
   "source": [
    "# verify GPU availability\n",
    "import tensorflow as tf\n",
    "\n",
    "device_name = tf.test.gpu_device_name()\n",
    "if device_name != '/device:GPU:0':\n",
    "  raise SystemError('GPU device not found')\n",
    "print('Found GPU at: {}'.format(device_name))"
   ]
  },
  {
   "cell_type": "code",
   "execution_count": 2,
   "metadata": {},
   "outputs": [
    {
     "ename": "ImportError",
     "evalue": "\nTFBertForSequenceClassification requires the TensorFlow library but it was not found in your environment. Checkout the instructions on the\ninstallation page: https://www.tensorflow.org/install and follow the ones that match your environment.\n",
     "output_type": "error",
     "traceback": [
      "\u001b[0;31m---------------------------------------------------------------------------\u001b[0m",
      "\u001b[0;31mImportError\u001b[0m                               Traceback (most recent call last)",
      "\u001b[0;32m<ipython-input-2-5f2676f34642>\u001b[0m in \u001b[0;36m<module>\u001b[0;34m\u001b[0m\n\u001b[1;32m      2\u001b[0m \u001b[0;32mfrom\u001b[0m \u001b[0mtransformers\u001b[0m \u001b[0;32mimport\u001b[0m \u001b[0mInputExample\u001b[0m\u001b[0;34m,\u001b[0m \u001b[0mInputFeatures\u001b[0m\u001b[0;34m\u001b[0m\u001b[0;34m\u001b[0m\u001b[0m\n\u001b[1;32m      3\u001b[0m \u001b[0;34m\u001b[0m\u001b[0m\n\u001b[0;32m----> 4\u001b[0;31m \u001b[0mmodel\u001b[0m \u001b[0;34m=\u001b[0m \u001b[0mTFBertForSequenceClassification\u001b[0m\u001b[0;34m.\u001b[0m\u001b[0mfrom_pretrained\u001b[0m\u001b[0;34m(\u001b[0m\u001b[0;34m\"bert-base-uncased\"\u001b[0m\u001b[0;34m)\u001b[0m\u001b[0;34m\u001b[0m\u001b[0;34m\u001b[0m\u001b[0m\n\u001b[0m\u001b[1;32m      5\u001b[0m \u001b[0mtokenizer\u001b[0m \u001b[0;34m=\u001b[0m \u001b[0mBertTokenizer\u001b[0m\u001b[0;34m.\u001b[0m\u001b[0mfrom_pretrained\u001b[0m\u001b[0;34m(\u001b[0m\u001b[0;34m\"bert-base-uncased\"\u001b[0m\u001b[0;34m)\u001b[0m\u001b[0;34m\u001b[0m\u001b[0;34m\u001b[0m\u001b[0m\n",
      "\u001b[0;32m/anaconda3/lib/python3.6/site-packages/transformers-4.2.2-py3.8.egg/transformers/utils/dummy_tf_objects.py\u001b[0m in \u001b[0;36mfrom_pretrained\u001b[0;34m(self, *args, **kwargs)\u001b[0m\n\u001b[1;32m    317\u001b[0m     \u001b[0;34m@\u001b[0m\u001b[0mclassmethod\u001b[0m\u001b[0;34m\u001b[0m\u001b[0;34m\u001b[0m\u001b[0m\n\u001b[1;32m    318\u001b[0m     \u001b[0;32mdef\u001b[0m \u001b[0mfrom_pretrained\u001b[0m\u001b[0;34m(\u001b[0m\u001b[0mself\u001b[0m\u001b[0;34m,\u001b[0m \u001b[0;34m*\u001b[0m\u001b[0margs\u001b[0m\u001b[0;34m,\u001b[0m \u001b[0;34m**\u001b[0m\u001b[0mkwargs\u001b[0m\u001b[0;34m)\u001b[0m\u001b[0;34m:\u001b[0m\u001b[0;34m\u001b[0m\u001b[0;34m\u001b[0m\u001b[0m\n\u001b[0;32m--> 319\u001b[0;31m         \u001b[0mrequires_tf\u001b[0m\u001b[0;34m(\u001b[0m\u001b[0mself\u001b[0m\u001b[0;34m)\u001b[0m\u001b[0;34m\u001b[0m\u001b[0;34m\u001b[0m\u001b[0m\n\u001b[0m\u001b[1;32m    320\u001b[0m \u001b[0;34m\u001b[0m\u001b[0m\n\u001b[1;32m    321\u001b[0m \u001b[0;34m\u001b[0m\u001b[0m\n",
      "\u001b[0;32m/anaconda3/lib/python3.6/site-packages/transformers-4.2.2-py3.8.egg/transformers/file_utils.py\u001b[0m in \u001b[0;36mrequires_tf\u001b[0;34m(obj)\u001b[0m\n\u001b[1;32m    441\u001b[0m     \u001b[0mname\u001b[0m \u001b[0;34m=\u001b[0m \u001b[0mobj\u001b[0m\u001b[0;34m.\u001b[0m\u001b[0m__name__\u001b[0m \u001b[0;32mif\u001b[0m \u001b[0mhasattr\u001b[0m\u001b[0;34m(\u001b[0m\u001b[0mobj\u001b[0m\u001b[0;34m,\u001b[0m \u001b[0;34m\"__name__\"\u001b[0m\u001b[0;34m)\u001b[0m \u001b[0;32melse\u001b[0m \u001b[0mobj\u001b[0m\u001b[0;34m.\u001b[0m\u001b[0m__class__\u001b[0m\u001b[0;34m.\u001b[0m\u001b[0m__name__\u001b[0m\u001b[0;34m\u001b[0m\u001b[0;34m\u001b[0m\u001b[0m\n\u001b[1;32m    442\u001b[0m     \u001b[0;32mif\u001b[0m \u001b[0;32mnot\u001b[0m \u001b[0mis_tf_available\u001b[0m\u001b[0;34m(\u001b[0m\u001b[0;34m)\u001b[0m\u001b[0;34m:\u001b[0m\u001b[0;34m\u001b[0m\u001b[0;34m\u001b[0m\u001b[0m\n\u001b[0;32m--> 443\u001b[0;31m         \u001b[0;32mraise\u001b[0m \u001b[0mImportError\u001b[0m\u001b[0;34m(\u001b[0m\u001b[0mTENSORFLOW_IMPORT_ERROR\u001b[0m\u001b[0;34m.\u001b[0m\u001b[0mformat\u001b[0m\u001b[0;34m(\u001b[0m\u001b[0mname\u001b[0m\u001b[0;34m)\u001b[0m\u001b[0;34m)\u001b[0m\u001b[0;34m\u001b[0m\u001b[0;34m\u001b[0m\u001b[0m\n\u001b[0m\u001b[1;32m    444\u001b[0m \u001b[0;34m\u001b[0m\u001b[0m\n\u001b[1;32m    445\u001b[0m \u001b[0;34m\u001b[0m\u001b[0m\n",
      "\u001b[0;31mImportError\u001b[0m: \nTFBertForSequenceClassification requires the TensorFlow library but it was not found in your environment. Checkout the instructions on the\ninstallation page: https://www.tensorflow.org/install and follow the ones that match your environment.\n"
     ]
    }
   ],
   "source": [
    "from transformers import BertTokenizer, TFBertForSequenceClassification\n",
    "from transformers import InputExample, InputFeatures\n",
    "\n",
    "model = TFBertForSequenceClassification.from_pretrained(\"bert-base-uncased\")\n",
    "tokenizer = BertTokenizer.from_pretrained(\"bert-base-uncased\")"
   ]
  },
  {
   "cell_type": "code",
   "execution_count": 14,
   "metadata": {},
   "outputs": [
    {
     "name": "stdout",
     "output_type": "stream",
     "text": [
      "/usr/local/bin/pip\r\n"
     ]
    }
   ],
   "source": [
    "!which pip"
   ]
  },
  {
   "cell_type": "code",
   "execution_count": 27,
   "metadata": {},
   "outputs": [
    {
     "name": "stdout",
     "output_type": "stream",
     "text": [
      "\u001b[33mDEPRECATION: Python 2.7 will reach the end of its life on January 1st, 2020. Please upgrade your Python as Python 2.7 won't be maintained after that date. A future version of pip will drop support for Python 2.7.\u001b[0m\r\n",
      "Package                       Version    \r\n",
      "----------------------------- -----------\r\n",
      "absl-py                       0.9.0      \r\n",
      "astor                         0.8.1      \r\n",
      "backports-abc                 0.5        \r\n",
      "backports.functools-lru-cache 1.6.1      \r\n",
      "backports.weakref             1.0.post1  \r\n",
      "bleach                        2.0.0      \r\n",
      "boto3                         1.17.3     \r\n",
      "botocore                      1.20.3     \r\n",
      "cachetools                    3.1.1      \r\n",
      "certifi                       2019.11.28 \r\n",
      "chardet                       3.0.4      \r\n",
      "click                         7.1.2      \r\n",
      "configparser                  3.5.0      \r\n",
      "cycler                        0.10.0     \r\n",
      "decorator                     4.4.2      \r\n",
      "entrypoints                   0.2.3      \r\n",
      "enum34                        1.1.10     \r\n",
      "funcsigs                      1.0.2      \r\n",
      "functools32                   3.2.3.post2\r\n",
      "future                        0.18.2     \r\n",
      "futures                       3.3.0      \r\n",
      "gast                          0.2.2      \r\n",
      "google-auth                   1.12.0     \r\n",
      "google-auth-oauthlib          0.4.1      \r\n",
      "google-pasta                  0.2.0      \r\n",
      "grpcio                        1.27.2     \r\n",
      "h5py                          2.10.0     \r\n",
      "html5lib                      0.999999999\r\n",
      "httplib2                      0.18.1     \r\n",
      "idna                          2.9        \r\n",
      "ipykernel                     4.6.1      \r\n",
      "ipython-genutils              0.2.0      \r\n",
      "ipywidgets                    7.0.1      \r\n",
      "Jinja2                        2.9.6      \r\n",
      "jmespath                      0.10.0     \r\n",
      "joblib                        0.14.1     \r\n",
      "jsonschema                    2.6.0      \r\n",
      "jupyter                       1.0.0      \r\n",
      "jupyter-client                5.1.0      \r\n",
      "jupyter-console               5.2.0      \r\n",
      "jupyter-core                  4.6.3      \r\n",
      "Keras                         2.3.1      \r\n",
      "Keras-Applications            1.0.8      \r\n",
      "Keras-Preprocessing           1.1.0      \r\n",
      "kiwisolver                    1.1.0      \r\n",
      "Markdown                      3.1.1      \r\n",
      "MarkupSafe                    1.0        \r\n",
      "matplotlib                    2.2.5      \r\n",
      "mistune                       0.7.4      \r\n",
      "mock                          3.0.5      \r\n",
      "mpi4py                        3.1.0a0    \r\n",
      "mpmath                        0.19       \r\n",
      "music21                       4.1.0      \r\n",
      "nbconvert                     5.3.1      \r\n",
      "nbformat                      4.4.0      \r\n",
      "nose                          1.3.7      \r\n",
      "notebook                      5.1.0      \r\n",
      "np-utils                      0.5.12.1   \r\n",
      "numpy                         1.16.6     \r\n",
      "oauth2                        1.9.0.post1\r\n",
      "oauthlib                      3.1.0      \r\n",
      "opt-einsum                    2.3.2      \r\n",
      "pandas                        0.20.3     \r\n",
      "pandocfilters                 1.4.2      \r\n",
      "phased-lstm-keras             1.0.2      \r\n",
      "pip                           19.1.1     \r\n",
      "protobuf                      3.11.3     \r\n",
      "pyasn1                        0.4.8      \r\n",
      "pyasn1-modules                0.2.8      \r\n",
      "pyparsing                     2.4.7      \r\n",
      "python-dateutil               2.8.1      \r\n",
      "pytz                          2019.3     \r\n",
      "PyYAML                        5.3.1      \r\n",
      "pyzmq                         16.0.2     \r\n",
      "qtconsole                     4.3.1      \r\n",
      "regex                         2020.11.13 \r\n",
      "requests                      2.23.0     \r\n",
      "requests-oauthlib             1.3.0      \r\n",
      "rsa                           4.0        \r\n",
      "s3transfer                    0.3.4      \r\n",
      "sacremoses                    0.0.43     \r\n",
      "scipy                         1.2.2      \r\n",
      "sentencepiece                 0.1.95     \r\n",
      "setuptools                    41.0.1     \r\n",
      "singledispatch                3.4.0.3    \r\n",
      "six                           1.12.0     \r\n",
      "subprocess32                  3.5.4      \r\n",
      "sympy                         1.1.1      \r\n",
      "tensorboard                   2.1.0      \r\n",
      "tensorflow                    2.1.0      \r\n",
      "tensorflow-estimator          2.1.0      \r\n",
      "termcolor                     1.1.0      \r\n",
      "terminado                     0.6        \r\n",
      "testpath                      0.3.1      \r\n",
      "tornado                       5.1.1      \r\n",
      "tqdm                          4.56.0     \r\n",
      "traitlets                     4.3.3      \r\n",
      "urllib3                       1.25.8     \r\n",
      "webencodings                  0.5.1      \r\n",
      "Werkzeug                      1.0.1      \r\n",
      "wheel                         0.33.4     \r\n",
      "widgetsnbextension            3.0.3      \r\n",
      "wrapt                         1.12.1     \r\n",
      "xmltodict                     0.12.0     \r\n"
     ]
    }
   ],
   "source": [
    "!pip list"
   ]
  },
  {
   "cell_type": "code",
   "execution_count": 25,
   "metadata": {},
   "outputs": [
    {
     "name": "stdout",
     "output_type": "stream",
     "text": [
      "['/anaconda3/lib/python36.zip', '/anaconda3/lib/python3.6', '/anaconda3/lib/python3.6/lib-dynload', '', '/anaconda3/lib/python3.6/site-packages', '/anaconda3/lib/python3.6/site-packages/aeosa', '/anaconda3/lib/python3.6/site-packages/asteval-0.9.12-py3.6.egg', '/anaconda3/lib/python3.6/site-packages/backports.csv-1.0.1-py3.6.egg', '/anaconda3/lib/python3.6/site-packages/pip-10.0.1-py3.6.egg', '/anaconda3/lib/python3.6/site-packages/lmfit-0.9.11-py3.6.egg', '/anaconda3/lib/python3.6/site-packages/wxmplot-0.9.30-py3.6.egg', '/anaconda3/lib/python3.6/site-packages/wxutils-0.1.3-py3.6.egg', '/anaconda3/lib/python3.6/site-packages/IPython/extensions', '/Users/sepinoud/.ipython']\n"
     ]
    }
   ],
   "source": [
    " import sys\n",
    "print(sys.path)"
   ]
  },
  {
   "cell_type": "code",
   "execution_count": null,
   "metadata": {},
   "outputs": [],
   "source": []
  }
 ],
 "metadata": {
  "kernelspec": {
   "display_name": "Python 3",
   "language": "python",
   "name": "python3"
  },
  "language_info": {
   "codemirror_mode": {
    "name": "ipython",
    "version": 3
   },
   "file_extension": ".py",
   "mimetype": "text/x-python",
   "name": "python",
   "nbconvert_exporter": "python",
   "pygments_lexer": "ipython3",
   "version": "3.6.10"
  }
 },
 "nbformat": 4,
 "nbformat_minor": 4
}
