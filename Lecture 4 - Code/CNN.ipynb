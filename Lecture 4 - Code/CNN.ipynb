{
 "cells": [
  {
   "cell_type": "code",
   "execution_count": 1,
   "metadata": {},
   "outputs": [
    {
     "name": "stderr",
     "output_type": "stream",
     "text": [
      "Using TensorFlow backend.\n",
      "/anaconda3/lib/python3.6/site-packages/tensorflow/python/framework/dtypes.py:519: FutureWarning: Passing (type, 1) or '1type' as a synonym of type is deprecated; in a future version of numpy, it will be understood as (type, (1,)) / '(1,)type'.\n",
      "  _np_qint8 = np.dtype([(\"qint8\", np.int8, 1)])\n",
      "/anaconda3/lib/python3.6/site-packages/tensorflow/python/framework/dtypes.py:520: FutureWarning: Passing (type, 1) or '1type' as a synonym of type is deprecated; in a future version of numpy, it will be understood as (type, (1,)) / '(1,)type'.\n",
      "  _np_quint8 = np.dtype([(\"quint8\", np.uint8, 1)])\n",
      "/anaconda3/lib/python3.6/site-packages/tensorflow/python/framework/dtypes.py:521: FutureWarning: Passing (type, 1) or '1type' as a synonym of type is deprecated; in a future version of numpy, it will be understood as (type, (1,)) / '(1,)type'.\n",
      "  _np_qint16 = np.dtype([(\"qint16\", np.int16, 1)])\n",
      "/anaconda3/lib/python3.6/site-packages/tensorflow/python/framework/dtypes.py:522: FutureWarning: Passing (type, 1) or '1type' as a synonym of type is deprecated; in a future version of numpy, it will be understood as (type, (1,)) / '(1,)type'.\n",
      "  _np_quint16 = np.dtype([(\"quint16\", np.uint16, 1)])\n",
      "/anaconda3/lib/python3.6/site-packages/tensorflow/python/framework/dtypes.py:523: FutureWarning: Passing (type, 1) or '1type' as a synonym of type is deprecated; in a future version of numpy, it will be understood as (type, (1,)) / '(1,)type'.\n",
      "  _np_qint32 = np.dtype([(\"qint32\", np.int32, 1)])\n",
      "/anaconda3/lib/python3.6/site-packages/tensorflow/python/framework/dtypes.py:528: FutureWarning: Passing (type, 1) or '1type' as a synonym of type is deprecated; in a future version of numpy, it will be understood as (type, (1,)) / '(1,)type'.\n",
      "  np_resource = np.dtype([(\"resource\", np.ubyte, 1)])\n"
     ]
    }
   ],
   "source": [
    "import os, cv2, itertools\n",
    "import numpy as np\n",
    "import pandas as pd\n",
    "\n",
    "import matplotlib.pyplot as plt\n",
    "%matplotlib inline\n",
    "\n",
    "#!pip install np_utils\n",
    "\n",
    "from keras.utils.np_utils import to_categorical\n",
    "\n",
    "from keras.models import Sequential\n",
    "from keras.layers import Conv2D\n",
    "from keras.layers import MaxPooling2D\n",
    "from keras.layers import Flatten\n",
    "from keras.layers import Dense\n",
    "from keras.layers import Dropout\n",
    "\n",
    "from sklearn.utils import shuffle\n",
    "\n",
    "import sklearn\n",
    "from sklearn.model_selection import train_test_split"
   ]
  },
  {
   "cell_type": "code",
   "execution_count": 2,
   "metadata": {},
   "outputs": [],
   "source": [
    "TRAIN_DIR = './train/'\n",
    "TEST_DIR = './test/'\n",
    "\n",
    "ROWS = 64\n",
    "COLS = 64\n",
    "CHANNELS = 3"
   ]
  },
  {
   "cell_type": "code",
   "execution_count": 3,
   "metadata": {},
   "outputs": [],
   "source": [
    "train_images = [TRAIN_DIR+i for i in os.listdir(TRAIN_DIR)]\n",
    "test_images = [TEST_DIR+i for i in os.listdir(TEST_DIR)]"
   ]
  },
  {
   "cell_type": "code",
   "execution_count": 4,
   "metadata": {},
   "outputs": [],
   "source": [
    "def read_image(file_path):\n",
    "  #print(file_path)\n",
    "  img = cv2.imread(file_path, cv2.IMREAD_COLOR)\n",
    "  #print(img)\n",
    "  return cv2.resize(img, (ROWS, COLS), interpolation=cv2.INTER_CUBIC)"
   ]
  },
  {
   "cell_type": "code",
   "execution_count": 5,
   "metadata": {},
   "outputs": [],
   "source": [
    "def prep_data(images):\n",
    "  m = len(images)\n",
    "  n_x = ROWS*COLS*CHANNELS\n",
    "  \n",
    "  X = np.ndarray((m,ROWS,COLS,CHANNELS), dtype=np.uint8)\n",
    "  y = np.zeros((m,1))\n",
    "  print(\"X.shape is {}\".format(X.shape))\n",
    "  \n",
    "  for i,image_file in enumerate(images) :\n",
    "    image = read_image(image_file)\n",
    "    X[i,:] = np.squeeze(image.reshape((ROWS, COLS, CHANNELS)))\n",
    "    if 'dog' in image_file.lower() :\n",
    "      y[i,0] = 1\n",
    "    elif 'cat' in image_file.lower() :\n",
    "      y[i,0] = 0\n",
    "    else : # for test data\n",
    "      y[i,0] = image_file.split('/')[-1].split('.')[0]\n",
    "      \n",
    "    if i%5000 == 0 :\n",
    "      print(\"Proceed {} of {}\".format(i, m))\n",
    "    \n",
    "  return X,y"
   ]
  },
  {
   "cell_type": "code",
   "execution_count": 6,
   "metadata": {},
   "outputs": [
    {
     "name": "stdout",
     "output_type": "stream",
     "text": [
      "X.shape is (25000, 64, 64, 3)\n",
      "Proceed 0 of 25000\n",
      "Proceed 5000 of 25000\n",
      "Proceed 10000 of 25000\n",
      "Proceed 15000 of 25000\n",
      "Proceed 20000 of 25000\n",
      "X.shape is (12500, 64, 64, 3)\n",
      "Proceed 0 of 12500\n",
      "Proceed 5000 of 12500\n",
      "Proceed 10000 of 12500\n"
     ]
    }
   ],
   "source": [
    "X_train, y_train = prep_data(train_images)\n",
    "X_test, test_idx = prep_data(test_images)"
   ]
  },
  {
   "cell_type": "code",
   "execution_count": 7,
   "metadata": {},
   "outputs": [
    {
     "name": "stdout",
     "output_type": "stream",
     "text": [
      "Train shape: (25000, 64, 64, 3)\n",
      "Test shape: (12500, 64, 64, 3)\n"
     ]
    }
   ],
   "source": [
    "print(\"Train shape: {}\".format(X_train.shape))\n",
    "print(\"Test shape: {}\".format(X_test.shape))"
   ]
  },
  {
   "cell_type": "code",
   "execution_count": 8,
   "metadata": {},
   "outputs": [],
   "source": [
    "X_train, y_train = shuffle(X_train, y_train)\n"
   ]
  },
  {
   "cell_type": "code",
   "execution_count": 9,
   "metadata": {},
   "outputs": [],
   "source": [
    "classes = {0: 'cats',\n",
    "           1: 'dogs'}"
   ]
  },
  {
   "cell_type": "code",
   "execution_count": 10,
   "metadata": {},
   "outputs": [
    {
     "name": "stdout",
     "output_type": "stream",
     "text": [
      "Train shape: (20000, 64, 64, 3)\n",
      "Train label shape: (20000, 1)\n",
      "Validation shape: (5000, 64, 64, 3)\n",
      "Validation label shape: (5000, 1)\n"
     ]
    }
   ],
   "source": [
    "X_train, X_val, y_train, y_val = train_test_split(X_train, y_train, test_size=0.2, random_state=1)\n",
    "\n",
    "print(\"Train shape: {}\".format(X_train.shape))\n",
    "print(\"Train label shape: {}\".format(y_train.shape))\n",
    "print(\"Validation shape: {}\".format(X_val.shape))\n",
    "print(\"Validation label shape: {}\".format(y_val.shape))"
   ]
  },
  {
   "cell_type": "code",
   "execution_count": 11,
   "metadata": {},
   "outputs": [
    {
     "name": "stdout",
     "output_type": "stream",
     "text": [
      "(20000, 2)\n",
      "2\n",
      "(5000, 2)\n"
     ]
    }
   ],
   "source": [
    "y_train_one_hot = to_categorical(y_train)\n",
    "print(y_train_one_hot.shape)\n",
    "\n",
    "num_classes = y_train_one_hot.shape[1]\n",
    "print(num_classes)\n",
    "\n",
    "y_val_one_hot = to_categorical(y_val)\n",
    "print(y_val_one_hot.shape)"
   ]
  },
  {
   "cell_type": "code",
   "execution_count": 12,
   "metadata": {},
   "outputs": [],
   "source": [
    "def show_images(X, y, idx) :\n",
    "  image = X[idx]\n",
    "  #image = image.reshape((ROWS, COLS, CHANNELS))\n",
    "  plt.figure(figsize=(4,2))\n",
    "  plt.imshow(image)\n",
    "  plt.title(\"This is a {}\".format(classes[y[idx,0]]))\n",
    "  plt.show()"
   ]
  },
  {
   "cell_type": "code",
   "execution_count": 13,
   "metadata": {},
   "outputs": [
    {
     "data": {
      "image/png": "[encoded data removed]",
      "text/plain": [
       "<Figure size 288x144 with 1 Axes>"
      ]
     },
     "metadata": {
      "needs_background": "light"
     },
     "output_type": "display_data"
    }
   ],
   "source": [
    "show_images(X_train, y_train, 0)"
   ]
  },
  {
   "cell_type": "code",
   "execution_count": 14,
   "metadata": {},
   "outputs": [],
   "source": [
    "X_train_norm = X_train / 255\n",
    "X_val_norm = X_val / 255"
   ]
  },
  {
   "cell_type": "code",
   "execution_count": 15,
   "metadata": {},
   "outputs": [],
   "source": [
    "from keras.callbacks import EarlyStopping, ModelCheckpoint"
   ]
  },
  {
   "cell_type": "code",
   "execution_count": 16,
   "metadata": {},
   "outputs": [
    {
     "name": "stdout",
     "output_type": "stream",
     "text": [
      "_________________________________________________________________\n",
      "Layer (type)                 Output Shape              Param #   \n",
      "=================================================================\n",
      "conv2d_1 (Conv2D)            (None, 62, 62, 32)        896       \n",
      "_________________________________________________________________\n",
      "max_pooling2d_1 (MaxPooling2 (None, 31, 31, 32)        0         \n",
      "_________________________________________________________________\n",
      "conv2d_2 (Conv2D)            (None, 29, 29, 64)        18496     \n",
      "_________________________________________________________________\n",
      "max_pooling2d_2 (MaxPooling2 (None, 14, 14, 64)        0         \n",
      "_________________________________________________________________\n",
      "dropout_1 (Dropout)          (None, 14, 14, 64)        0         \n",
      "_________________________________________________________________\n",
      "conv2d_3 (Conv2D)            (None, 12, 12, 128)       73856     \n",
      "_________________________________________________________________\n",
      "max_pooling2d_3 (MaxPooling2 (None, 6, 6, 128)         0         \n",
      "_________________________________________________________________\n",
      "dropout_2 (Dropout)          (None, 6, 6, 128)         0         \n",
      "_________________________________________________________________\n",
      "conv2d_4 (Conv2D)            (None, 4, 4, 256)         295168    \n",
      "_________________________________________________________________\n",
      "max_pooling2d_4 (MaxPooling2 (None, 2, 2, 256)         0         \n",
      "_________________________________________________________________\n",
      "dropout_3 (Dropout)          (None, 2, 2, 256)         0         \n",
      "_________________________________________________________________\n",
      "conv2d_5 (Conv2D)            (None, 2, 2, 512)         131584    \n",
      "_________________________________________________________________\n",
      "flatten_1 (Flatten)          (None, 2048)              0         \n",
      "_________________________________________________________________\n",
      "dropout_4 (Dropout)          (None, 2048)              0         \n",
      "_________________________________________________________________\n",
      "dense_1 (Dense)              (None, 120)               245880    \n",
      "_________________________________________________________________\n",
      "dense_2 (Dense)              (None, 2)                 242       \n",
      "=================================================================\n",
      "Total params: 766,122\n",
      "Trainable params: 766,122\n",
      "Non-trainable params: 0\n",
      "_________________________________________________________________\n"
     ]
    }
   ],
   "source": [
    "from keras.optimizers import SGD\n",
    "model = Sequential()\n",
    "\n",
    "model.add(Conv2D(32, (3,3), input_shape=(ROWS, COLS, CHANNELS), activation='relu'))\n",
    "model.add(MaxPooling2D(pool_size = (2,2)))\n",
    "\n",
    "model.add(Conv2D(64, (3,3), activation='relu'))\n",
    "model.add(MaxPooling2D(pool_size = (2,2)))\n",
    "model.add(Dropout(0.4))\n",
    "\n",
    "model.add(Conv2D(128, (3,3), activation='relu'))\n",
    "model.add(MaxPooling2D(pool_size = (2,2)))\n",
    "model.add(Dropout(0.4))\n",
    "\n",
    "model.add(Conv2D(256, (3,3), activation='relu'))\n",
    "model.add(MaxPooling2D(pool_size = (2,2)))\n",
    "model.add(Dropout(0.4))\n",
    "\n",
    "model.add(Conv2D(512, (1,1), activation='relu'))\n",
    "#model.add(MaxPooling2D(pool_size = (2,2)))\n",
    "\n",
    "model.add(Flatten())\n",
    "model.add(Dropout(0.4))\n",
    "\n",
    "model.add(Dense(units=120, activation='relu'))\n",
    "model.add(Dense(units=2, activation='sigmoid'))\n",
    "sgd = SGD(lr=0.01, decay=1e-4, momentum=0.9, nesterov=True)\n",
    "\n",
    "model.compile( loss = \"categorical_crossentropy\",  optimizer = sgd,   metrics=['accuracy'] )\n",
    "#model.compile(optimizer='adam', loss='categorical_crossentropy', metrics=['accuracy'])\n",
    "model.summary()"
   ]
  },
  {
   "cell_type": "code",
   "execution_count": 17,
   "metadata": {},
   "outputs": [
    {
     "name": "stdout",
     "output_type": "stream",
     "text": [
      "WARNING:tensorflow:Variable *= will be deprecated. Use variable.assign_mul if you want assignment to the variable value or 'x = x * y' if you want a new python Tensor object.\n",
      "Train on 20000 samples, validate on 5000 samples\n",
      "Epoch 1/50\n",
      "20000/20000 [==============================] - 162s 8ms/step - loss: 0.6868 - acc: 0.5419 - val_loss: 0.6959 - val_acc: 0.5294\n",
      "Epoch 2/50\n",
      "20000/20000 [==============================] - 164s 8ms/step - loss: 0.6507 - acc: 0.6189 - val_loss: 0.6302 - val_acc: 0.6656\n",
      "Epoch 3/50\n",
      "20000/20000 [==============================] - 165s 8ms/step - loss: 0.6112 - acc: 0.6677 - val_loss: 0.5596 - val_acc: 0.7196\n",
      "Epoch 4/50\n",
      "20000/20000 [==============================] - 163s 8ms/step - loss: 0.5666 - acc: 0.7071 - val_loss: 0.5363 - val_acc: 0.7348\n",
      "Epoch 5/50\n",
      "20000/20000 [==============================] - 164s 8ms/step - loss: 0.5275 - acc: 0.7410 - val_loss: 0.5572 - val_acc: 0.7086\n",
      "Epoch 6/50\n",
      "20000/20000 [==============================] - 162s 8ms/step - loss: 0.4906 - acc: 0.7662 - val_loss: 0.5576 - val_acc: 0.7258\n",
      "Epoch 7/50\n",
      "20000/20000 [==============================] - 163s 8ms/step - loss: 0.4654 - acc: 0.7802 - val_loss: 0.4469 - val_acc: 0.7966\n",
      "Epoch 8/50\n",
      "20000/20000 [==============================] - 164s 8ms/step - loss: 0.4394 - acc: 0.7988 - val_loss: 0.3869 - val_acc: 0.8340\n",
      "Epoch 9/50\n",
      "20000/20000 [==============================] - 161s 8ms/step - loss: 0.4132 - acc: 0.8120 - val_loss: 0.3812 - val_acc: 0.8278\n",
      "Epoch 10/50\n",
      "20000/20000 [==============================] - 161s 8ms/step - loss: 0.3971 - acc: 0.8209 - val_loss: 0.3652 - val_acc: 0.8416\n",
      "Epoch 11/50\n",
      "20000/20000 [==============================] - 161s 8ms/step - loss: 0.3772 - acc: 0.8303 - val_loss: 0.3615 - val_acc: 0.8398\n",
      "Epoch 12/50\n",
      "20000/20000 [==============================] - 162s 8ms/step - loss: 0.3627 - acc: 0.8372 - val_loss: 0.3427 - val_acc: 0.8510\n",
      "Epoch 13/50\n",
      "20000/20000 [==============================] - 160s 8ms/step - loss: 0.3494 - acc: 0.8463 - val_loss: 0.3721 - val_acc: 0.8280\n",
      "Epoch 14/50\n",
      "20000/20000 [==============================] - 160s 8ms/step - loss: 0.3374 - acc: 0.8515 - val_loss: 0.3045 - val_acc: 0.8692\n",
      "Epoch 15/50\n",
      "20000/20000 [==============================] - 161s 8ms/step - loss: 0.3260 - acc: 0.8561 - val_loss: 0.3229 - val_acc: 0.8576\n",
      "Epoch 16/50\n",
      "20000/20000 [==============================] - 163s 8ms/step - loss: 0.3142 - acc: 0.8612 - val_loss: 0.3335 - val_acc: 0.8626\n",
      "Epoch 17/50\n",
      "20000/20000 [==============================] - 166s 8ms/step - loss: 0.3068 - acc: 0.8669 - val_loss: 0.2880 - val_acc: 0.8720\n",
      "Epoch 18/50\n",
      "20000/20000 [==============================] - 162s 8ms/step - loss: 0.2985 - acc: 0.8722 - val_loss: 0.2811 - val_acc: 0.8778\n",
      "Epoch 19/50\n",
      "20000/20000 [==============================] - 162s 8ms/step - loss: 0.2921 - acc: 0.8742 - val_loss: 0.3425 - val_acc: 0.8436\n",
      "Epoch 20/50\n",
      "20000/20000 [==============================] - 161s 8ms/step - loss: 0.2812 - acc: 0.8788 - val_loss: 0.2660 - val_acc: 0.8848\n",
      "Epoch 21/50\n",
      "20000/20000 [==============================] - 162s 8ms/step - loss: 0.2747 - acc: 0.8805 - val_loss: 0.2830 - val_acc: 0.8812\n",
      "Epoch 22/50\n",
      "20000/20000 [==============================] - 158s 8ms/step - loss: 0.2697 - acc: 0.8822 - val_loss: 0.2703 - val_acc: 0.8852\n",
      "Epoch 23/50\n",
      "20000/20000 [==============================] - 165s 8ms/step - loss: 0.2659 - acc: 0.8850 - val_loss: 0.2940 - val_acc: 0.8768\n",
      "Epoch 24/50\n",
      "20000/20000 [==============================] - 161s 8ms/step - loss: 0.2578 - acc: 0.8894 - val_loss: 0.2486 - val_acc: 0.8982\n",
      "Epoch 25/50\n",
      "20000/20000 [==============================] - 163s 8ms/step - loss: 0.2500 - acc: 0.8955 - val_loss: 0.2550 - val_acc: 0.8888\n",
      "Epoch 26/50\n",
      "20000/20000 [==============================] - 160s 8ms/step - loss: 0.2465 - acc: 0.8949 - val_loss: 0.2508 - val_acc: 0.8940\n",
      "Epoch 27/50\n",
      "20000/20000 [==============================] - 159s 8ms/step - loss: 0.2449 - acc: 0.8980 - val_loss: 0.2625 - val_acc: 0.8918\n",
      "Epoch 28/50\n",
      "20000/20000 [==============================] - 159s 8ms/step - loss: 0.2362 - acc: 0.8997 - val_loss: 0.2604 - val_acc: 0.8896\n",
      "Epoch 29/50\n",
      "20000/20000 [==============================] - 160s 8ms/step - loss: 0.2354 - acc: 0.9018 - val_loss: 0.2441 - val_acc: 0.8980\n",
      "Epoch 30/50\n",
      "20000/20000 [==============================] - 172s 9ms/step - loss: 0.2269 - acc: 0.9038 - val_loss: 0.2466 - val_acc: 0.8958\n",
      "Epoch 31/50\n",
      "20000/20000 [==============================] - 173s 9ms/step - loss: 0.2214 - acc: 0.9057 - val_loss: 0.2419 - val_acc: 0.8996\n",
      "Epoch 32/50\n",
      "20000/20000 [==============================] - 172s 9ms/step - loss: 0.2214 - acc: 0.9060 - val_loss: 0.2445 - val_acc: 0.8998\n",
      "Epoch 33/50\n",
      "20000/20000 [==============================] - 171s 9ms/step - loss: 0.2120 - acc: 0.9113 - val_loss: 0.2420 - val_acc: 0.9024\n",
      "Epoch 34/50\n",
      "20000/20000 [==============================] - 172s 9ms/step - loss: 0.2131 - acc: 0.9111 - val_loss: 0.2600 - val_acc: 0.8912\n",
      "Epoch 35/50\n",
      "20000/20000 [==============================] - 169s 8ms/step - loss: 0.2085 - acc: 0.9130 - val_loss: 0.2365 - val_acc: 0.9012\n",
      "Epoch 36/50\n",
      "20000/20000 [==============================] - 177s 9ms/step - loss: 0.2036 - acc: 0.9143 - val_loss: 0.2397 - val_acc: 0.8976\n",
      "Epoch 37/50\n",
      "20000/20000 [==============================] - 174s 9ms/step - loss: 0.2030 - acc: 0.9144 - val_loss: 0.2446 - val_acc: 0.9002\n",
      "Epoch 38/50\n",
      "20000/20000 [==============================] - 177s 9ms/step - loss: 0.2001 - acc: 0.9152 - val_loss: 0.2364 - val_acc: 0.9036\n",
      "Epoch 39/50\n",
      "20000/20000 [==============================] - 178s 9ms/step - loss: 0.1919 - acc: 0.9194 - val_loss: 0.2386 - val_acc: 0.9002\n",
      "Epoch 40/50\n",
      "20000/20000 [==============================] - 178s 9ms/step - loss: 0.1936 - acc: 0.9191 - val_loss: 0.2463 - val_acc: 0.8992\n",
      "Epoch 41/50\n",
      "20000/20000 [==============================] - 174s 9ms/step - loss: 0.1909 - acc: 0.9180 - val_loss: 0.2351 - val_acc: 0.9032\n",
      "Epoch 42/50\n",
      "20000/20000 [==============================] - 177s 9ms/step - loss: 0.1868 - acc: 0.9210 - val_loss: 0.2344 - val_acc: 0.9038\n",
      "Epoch 43/50\n",
      "20000/20000 [==============================] - 178s 9ms/step - loss: 0.1857 - acc: 0.9224 - val_loss: 0.2355 - val_acc: 0.9000\n",
      "Epoch 44/50\n",
      "20000/20000 [==============================] - 177s 9ms/step - loss: 0.1810 - acc: 0.9255 - val_loss: 0.2384 - val_acc: 0.9006\n",
      "Epoch 45/50\n",
      "20000/20000 [==============================] - 176s 9ms/step - loss: 0.1835 - acc: 0.9244 - val_loss: 0.2323 - val_acc: 0.9054\n",
      "Epoch 46/50\n",
      "20000/20000 [==============================] - 177s 9ms/step - loss: 0.1740 - acc: 0.9274 - val_loss: 0.2289 - val_acc: 0.9060\n",
      "Epoch 47/50\n",
      "20000/20000 [==============================] - 178s 9ms/step - loss: 0.1738 - acc: 0.9285 - val_loss: 0.2311 - val_acc: 0.9064\n",
      "Epoch 48/50\n",
      "20000/20000 [==============================] - 178s 9ms/step - loss: 0.1691 - acc: 0.9296 - val_loss: 0.2246 - val_acc: 0.9074\n",
      "Epoch 49/50\n",
      "20000/20000 [==============================] - 177s 9ms/step - loss: 0.1738 - acc: 0.9285 - val_loss: 0.2536 - val_acc: 0.8958\n",
      "Epoch 50/50\n",
      "20000/20000 [==============================] - 177s 9ms/step - loss: 0.1710 - acc: 0.9294 - val_loss: 0.2241 - val_acc: 0.9052\n"
     ]
    },
    {
     "data": {
      "text/plain": [
       "<keras.callbacks.History at 0x11fd93ba8>"
      ]
     },
     "execution_count": 17,
     "metadata": {},
     "output_type": "execute_result"
    }
   ],
   "source": [
    "# Set callback functions to early stop training and save the best model so far\n",
    "callbacks = [EarlyStopping(monitor=\"val_loss\", patience=2),\n",
    "ModelCheckpoint(filepath=\"best_model.h5\", monitor=\"val_loss\", save_best_only=True)]\n",
    "model.fit(X_train_norm, y_train_one_hot, validation_data=(X_val_norm, y_val_one_hot), epochs=50, batch_size = 10)\n"
   ]
  },
  {
   "cell_type": "code",
   "execution_count": null,
   "metadata": {},
   "outputs": [],
   "source": [
    "model.save(\"model2.h5\")\n",
    "print(\"Saved model to disk\")\n",
    "\n",
    "image = X_train[0]\n",
    "test_pred = model.predict_classes(image.reshape(1, 64, 64, 3))\n",
    "\n",
    "show_images(X_train, y_train,0)\n",
    "\n",
    "print(\"Our Model Prediction: {}\".format(test_pred))"
   ]
  },
  {
   "cell_type": "code",
   "execution_count": null,
   "metadata": {},
   "outputs": [],
   "source": [
    "image = X_train[100]\n",
    "test_pred = model.predict_classes(image.reshape(1, 64, 64, 3))\n",
    "\n",
    "show_images(X_train, y_train,100)\n",
    "\n",
    "print(\"Our Model Prediction: {}\".format(test_pred))"
   ]
  },
  {
   "cell_type": "code",
   "execution_count": null,
   "metadata": {},
   "outputs": [],
   "source": [
    "def show_image_prediction(X, idx, model) :\n",
    "  image = X[idx].reshape(1,64,64,3)\n",
    "  image_class = classes[model.predict_classes(image).item()]\n",
    "  image = image.reshape((ROWS, COLS, CHANNELS))\n",
    "  plt.figure(figsize = (4,2))\n",
    "  plt.imshow(image)\n",
    "  plt.title(\"Test {} : I think this is {}\".format(idx, image_class))\n",
    "  plt.show()"
   ]
  },
  {
   "cell_type": "code",
   "execution_count": null,
   "metadata": {},
   "outputs": [],
   "source": [
    "X_test_lr, test_idx = X_test, test_idx\n",
    "\n",
    "for i in np.random.randint(0, len(X_test_lr), 10) :\n",
    "  show_image_prediction(X_test_lr, i, model)"
   ]
  },
  {
   "cell_type": "code",
   "execution_count": null,
   "metadata": {},
   "outputs": [],
   "source": []
  }
 ],
 "metadata": {
  "kernelspec": {
   "display_name": "Python 3",
   "language": "python",
   "name": "python3"
  },
  "language_info": {
   "codemirror_mode": {
    "name": "ipython",
    "version": 3
   },
   "file_extension": ".py",
   "mimetype": "text/x-python",
   "name": "python",
   "nbconvert_exporter": "python",
   "pygments_lexer": "ipython3",
   "version": "3.6.10"
  }
 },
 "nbformat": 4,
 "nbformat_minor": 4
}
