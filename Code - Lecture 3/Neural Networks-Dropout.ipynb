{
 "cells": [
  {
   "cell_type": "markdown",
   "metadata": {},
   "source": [
    "# Preprocessing Data for Neural Networks -Reducing Overfitting with Dropout"
   ]
  },
  {
   "cell_type": "code",
   "execution_count": 1,
   "metadata": {},
   "outputs": [
    {
     "name": "stderr",
     "output_type": "stream",
     "text": [
      "Using TensorFlow backend.\n",
      "/anaconda3/lib/python3.6/site-packages/tensorflow/python/framework/dtypes.py:519: FutureWarning: Passing (type, 1) or '1type' as a synonym of type is deprecated; in a future version of numpy, it will be understood as (type, (1,)) / '(1,)type'.\n",
      "  _np_qint8 = np.dtype([(\"qint8\", np.int8, 1)])\n",
      "/anaconda3/lib/python3.6/site-packages/tensorflow/python/framework/dtypes.py:520: FutureWarning: Passing (type, 1) or '1type' as a synonym of type is deprecated; in a future version of numpy, it will be understood as (type, (1,)) / '(1,)type'.\n",
      "  _np_quint8 = np.dtype([(\"quint8\", np.uint8, 1)])\n",
      "/anaconda3/lib/python3.6/site-packages/tensorflow/python/framework/dtypes.py:521: FutureWarning: Passing (type, 1) or '1type' as a synonym of type is deprecated; in a future version of numpy, it will be understood as (type, (1,)) / '(1,)type'.\n",
      "  _np_qint16 = np.dtype([(\"qint16\", np.int16, 1)])\n",
      "/anaconda3/lib/python3.6/site-packages/tensorflow/python/framework/dtypes.py:522: FutureWarning: Passing (type, 1) or '1type' as a synonym of type is deprecated; in a future version of numpy, it will be understood as (type, (1,)) / '(1,)type'.\n",
      "  _np_quint16 = np.dtype([(\"quint16\", np.uint16, 1)])\n",
      "/anaconda3/lib/python3.6/site-packages/tensorflow/python/framework/dtypes.py:523: FutureWarning: Passing (type, 1) or '1type' as a synonym of type is deprecated; in a future version of numpy, it will be understood as (type, (1,)) / '(1,)type'.\n",
      "  _np_qint32 = np.dtype([(\"qint32\", np.int32, 1)])\n",
      "/anaconda3/lib/python3.6/site-packages/tensorflow/python/framework/dtypes.py:528: FutureWarning: Passing (type, 1) or '1type' as a synonym of type is deprecated; in a future version of numpy, it will be understood as (type, (1,)) / '(1,)type'.\n",
      "  np_resource = np.dtype([(\"resource\", np.ubyte, 1)])\n"
     ]
    }
   ],
   "source": [
    "# Load libraries\n",
    "from sklearn import preprocessing\n",
    "import numpy as np\n",
    "# Load libraries\n",
    "from keras import models\n",
    "from keras import layers\n"
   ]
  },
  {
   "cell_type": "code",
   "execution_count": 2,
   "metadata": {},
   "outputs": [],
   "source": [
    "# Load libraries\n",
    "import numpy as np\n",
    "from keras.datasets import imdb\n",
    "from keras.preprocessing.text import Tokenizer\n",
    "from keras import models\n",
    "from keras import layers\n",
    "from keras.callbacks import EarlyStopping, ModelCheckpoint"
   ]
  },
  {
   "cell_type": "code",
   "execution_count": 3,
   "metadata": {},
   "outputs": [],
   "source": [
    "# Set random seed\n",
    "np.random.seed(0)\n",
    "# Set the number of features we want\n",
    "number_of_features = 1000\n"
   ]
  },
  {
   "cell_type": "code",
   "execution_count": 4,
   "metadata": {},
   "outputs": [
    {
     "name": "stderr",
     "output_type": "stream",
     "text": [
      "/anaconda3/lib/python3.6/site-packages/keras/datasets/imdb.py:99: VisibleDeprecationWarning: Creating an ndarray from ragged nested sequences (which is a list-or-tuple of lists-or-tuples-or ndarrays with different lengths or shapes) is deprecated. If you meant to do this, you must specify 'dtype=object' when creating the ndarray\n",
      "  x_train, y_train = np.array(xs[:idx]), np.array(labels[:idx])\n",
      "/anaconda3/lib/python3.6/site-packages/keras/datasets/imdb.py:100: VisibleDeprecationWarning: Creating an ndarray from ragged nested sequences (which is a list-or-tuple of lists-or-tuples-or ndarrays with different lengths or shapes) is deprecated. If you meant to do this, you must specify 'dtype=object' when creating the ndarray\n",
      "  x_test, y_test = np.array(xs[idx:]), np.array(labels[idx:])\n"
     ]
    }
   ],
   "source": [
    "# save np.load\n",
    "np_load_old = np.load\n",
    "# modify the default parameters of np.load\n",
    "np.load = lambda *a,**k: np_load_old(*a, allow_pickle=True, **k)\n",
    "\n",
    "# Load data and target vector from movie review data\n",
    "(data_train, target_train), (data_test, target_test) = imdb.load_data(num_words=number_of_features)\n",
    "np.load = np_load_old\n",
    "# Convert movie review data to one-hot encoded feature matrix\n",
    "tokenizer = Tokenizer(num_words=number_of_features)\n",
    "features_train = tokenizer.sequences_to_matrix(data_train, mode=\"binary\")\n",
    "features_test = tokenizer.sequences_to_matrix(data_test, mode=\"binary\")\n"
   ]
  },
  {
   "cell_type": "code",
   "execution_count": 5,
   "metadata": {},
   "outputs": [],
   "source": [
    "# Start neural network\n",
    "network = models.Sequential()\n",
    "# Add a dropout layer for input layer\n",
    "network.add(layers.Dropout(0.2, input_shape=(number_of_features,)))\n",
    "# Add fully connected layer with a ReLU activation function\n",
    "network.add(layers.Dense(units=16, activation=\"relu\"))\n",
    "# Add a dropout layer for previous hidden layer\n",
    "network.add(layers.Dropout(0.5))\n",
    "# Add fully connected layer with a ReLU activation function\n",
    "network.add(layers.Dense(units=16, activation=\"relu\"))\n",
    "# Add a dropout layer for previous hidden layer\n",
    "network.add(layers.Dropout(0.5))\n",
    "# Add fully connected layer with a sigmoid activation function\n",
    "network.add(layers.Dense(units=1, activation=\"sigmoid\"))\n",
    "# Compile neural network\n",
    "network.compile(loss=\"binary_crossentropy\", # Cross-entropy\n",
    "optimizer=\"rmsprop\", # Root Mean Square Propagation\n",
    "metrics=[\"accuracy\"]) # Accuracy performance metric"
   ]
  },
  {
   "cell_type": "code",
   "execution_count": 6,
   "metadata": {},
   "outputs": [
    {
     "name": "stdout",
     "output_type": "stream",
     "text": [
      "Train on 25000 samples, validate on 25000 samples\n",
      "Epoch 1/20\n",
      "25000/25000 [==============================] - 2s 66us/step - loss: 0.6388 - acc: 0.6246 - val_loss: 0.5142 - val_acc: 0.8234\n",
      "Epoch 2/20\n",
      "25000/25000 [==============================] - 2s 68us/step - loss: 0.5106 - acc: 0.7722 - val_loss: 0.3951 - val_acc: 0.8454\n",
      "Epoch 3/20\n",
      "25000/25000 [==============================] - 1s 47us/step - loss: 0.4613 - acc: 0.8035 - val_loss: 0.3639 - val_acc: 0.8539\n",
      "Epoch 4/20\n",
      "25000/25000 [==============================] - 1s 42us/step - loss: 0.4322 - acc: 0.8196 - val_loss: 0.3455 - val_acc: 0.8582\n",
      "Epoch 5/20\n",
      "25000/25000 [==============================] - 1s 40us/step - loss: 0.4236 - acc: 0.8218 - val_loss: 0.3388 - val_acc: 0.8596\n",
      "Epoch 6/20\n",
      "25000/25000 [==============================] - 2s 69us/step - loss: 0.4118 - acc: 0.8279 - val_loss: 0.3379 - val_acc: 0.8597\n",
      "Epoch 7/20\n",
      "25000/25000 [==============================] - 1s 57us/step - loss: 0.4011 - acc: 0.8364 - val_loss: 0.3381 - val_acc: 0.8593\n",
      "Epoch 8/20\n",
      "25000/25000 [==============================] - 1s 48us/step - loss: 0.4012 - acc: 0.8358 - val_loss: 0.3362 - val_acc: 0.8604\n",
      "Epoch 9/20\n",
      "25000/25000 [==============================] - 1s 40us/step - loss: 0.4023 - acc: 0.8362 - val_loss: 0.3360 - val_acc: 0.8596\n",
      "Epoch 10/20\n",
      "25000/25000 [==============================] - 1s 44us/step - loss: 0.3962 - acc: 0.8387 - val_loss: 0.3379 - val_acc: 0.8598\n",
      "Epoch 11/20\n",
      "25000/25000 [==============================] - 1s 48us/step - loss: 0.3941 - acc: 0.8390 - val_loss: 0.3373 - val_acc: 0.8612\n",
      "Epoch 12/20\n",
      "25000/25000 [==============================] - 1s 49us/step - loss: 0.3910 - acc: 0.8416 - val_loss: 0.3394 - val_acc: 0.8597\n",
      "Epoch 13/20\n",
      "25000/25000 [==============================] - 1s 43us/step - loss: 0.3940 - acc: 0.8412 - val_loss: 0.3401 - val_acc: 0.8602\n",
      "Epoch 14/20\n",
      "25000/25000 [==============================] - 2s 83us/step - loss: 0.3924 - acc: 0.8426 - val_loss: 0.3384 - val_acc: 0.8598\n",
      "Epoch 15/20\n",
      "25000/25000 [==============================] - 2s 87us/step - loss: 0.3877 - acc: 0.8450 - val_loss: 0.3406 - val_acc: 0.8596\n",
      "Epoch 16/20\n",
      "25000/25000 [==============================] - 1s 52us/step - loss: 0.3885 - acc: 0.8436 - val_loss: 0.3427 - val_acc: 0.8584\n",
      "Epoch 17/20\n",
      "25000/25000 [==============================] - 1s 49us/step - loss: 0.3911 - acc: 0.8435 - val_loss: 0.3362 - val_acc: 0.8578\n",
      "Epoch 18/20\n",
      "25000/25000 [==============================] - 1s 51us/step - loss: 0.3848 - acc: 0.8437 - val_loss: 0.3396 - val_acc: 0.8586\n",
      "Epoch 19/20\n",
      "25000/25000 [==============================] - 1s 48us/step - loss: 0.3903 - acc: 0.8447 - val_loss: 0.3409 - val_acc: 0.8592\n",
      "Epoch 20/20\n",
      "25000/25000 [==============================] - 2s 68us/step - loss: 0.3855 - acc: 0.8436 - val_loss: 0.3389 - val_acc: 0.8580\n"
     ]
    }
   ],
   "source": [
    "# Train neural network\n",
    "history = network.fit(features_train, # Features\n",
    "target_train, # Target vector\n",
    "epochs=20, # Number of epochs\n",
    "verbose=1, # Print description after each epoch\n",
    "batch_size=100, # Number of observations per batch\n",
    "validation_data=(features_test, target_test)) # Test data"
   ]
  },
  {
   "cell_type": "markdown",
   "metadata": {},
   "source": [
    "# Visualize Training History"
   ]
  },
  {
   "cell_type": "code",
   "execution_count": 7,
   "metadata": {},
   "outputs": [],
   "source": [
    "# Get training and test loss histories\n",
    "training_loss = history.history[\"loss\"]\n",
    "test_loss = history.history[\"val_loss\"]\n",
    "# Create count of the number of epochs\n",
    "epoch_count = range(1, len(training_loss) + 1)"
   ]
  },
  {
   "cell_type": "code",
   "execution_count": 8,
   "metadata": {},
   "outputs": [
    {
     "data": {
      "image/png": "[encoded data removed]",
      "text/plain": [
       "<Figure size 432x288 with 1 Axes>"
      ]
     },
     "metadata": {
      "needs_background": "light"
     },
     "output_type": "display_data"
    }
   ],
   "source": [
    "import matplotlib.pyplot as plt\n",
    "# Visualize loss history\n",
    "plt.plot(epoch_count, training_loss, \"r--\")\n",
    "plt.plot(epoch_count, test_loss, \"b-\")\n",
    "plt.legend([\"Training Loss\", \"Test Loss\"])\n",
    "plt.xlabel(\"Epoch\")\n",
    "plt.ylabel(\"Loss\")\n",
    "plt.show()"
   ]
  },
  {
   "cell_type": "code",
   "execution_count": null,
   "metadata": {},
   "outputs": [],
   "source": []
  },
  {
   "cell_type": "code",
   "execution_count": null,
   "metadata": {},
   "outputs": [],
   "source": []
  }
 ],
 "metadata": {
  "kernelspec": {
   "display_name": "Python 3",
   "language": "python",
   "name": "python3"
  },
  "language_info": {
   "codemirror_mode": {
    "name": "ipython",
    "version": 3
   },
   "file_extension": ".py",
   "mimetype": "text/x-python",
   "name": "python",
   "nbconvert_exporter": "python",
   "pygments_lexer": "ipython3",
   "version": "3.6.10"
  }
 },
 "nbformat": 4,
 "nbformat_minor": 4
}
