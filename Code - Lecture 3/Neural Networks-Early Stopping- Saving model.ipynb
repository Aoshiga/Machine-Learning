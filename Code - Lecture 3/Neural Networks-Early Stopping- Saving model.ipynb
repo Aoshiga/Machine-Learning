{
 "cells": [
  {
   "cell_type": "markdown",
   "metadata": {},
   "source": [
    "#  Saving Model Training Progress"
   ]
  },
  {
   "cell_type": "code",
   "execution_count": 1,
   "metadata": {},
   "outputs": [
    {
     "name": "stderr",
     "output_type": "stream",
     "text": [
      "Using TensorFlow backend.\n",
      "/anaconda3/lib/python3.6/site-packages/tensorflow/python/framework/dtypes.py:519: FutureWarning: Passing (type, 1) or '1type' as a synonym of type is deprecated; in a future version of numpy, it will be understood as (type, (1,)) / '(1,)type'.\n",
      "  _np_qint8 = np.dtype([(\"qint8\", np.int8, 1)])\n",
      "/anaconda3/lib/python3.6/site-packages/tensorflow/python/framework/dtypes.py:520: FutureWarning: Passing (type, 1) or '1type' as a synonym of type is deprecated; in a future version of numpy, it will be understood as (type, (1,)) / '(1,)type'.\n",
      "  _np_quint8 = np.dtype([(\"quint8\", np.uint8, 1)])\n",
      "/anaconda3/lib/python3.6/site-packages/tensorflow/python/framework/dtypes.py:521: FutureWarning: Passing (type, 1) or '1type' as a synonym of type is deprecated; in a future version of numpy, it will be understood as (type, (1,)) / '(1,)type'.\n",
      "  _np_qint16 = np.dtype([(\"qint16\", np.int16, 1)])\n",
      "/anaconda3/lib/python3.6/site-packages/tensorflow/python/framework/dtypes.py:522: FutureWarning: Passing (type, 1) or '1type' as a synonym of type is deprecated; in a future version of numpy, it will be understood as (type, (1,)) / '(1,)type'.\n",
      "  _np_quint16 = np.dtype([(\"quint16\", np.uint16, 1)])\n",
      "/anaconda3/lib/python3.6/site-packages/tensorflow/python/framework/dtypes.py:523: FutureWarning: Passing (type, 1) or '1type' as a synonym of type is deprecated; in a future version of numpy, it will be understood as (type, (1,)) / '(1,)type'.\n",
      "  _np_qint32 = np.dtype([(\"qint32\", np.int32, 1)])\n",
      "/anaconda3/lib/python3.6/site-packages/tensorflow/python/framework/dtypes.py:528: FutureWarning: Passing (type, 1) or '1type' as a synonym of type is deprecated; in a future version of numpy, it will be understood as (type, (1,)) / '(1,)type'.\n",
      "  np_resource = np.dtype([(\"resource\", np.ubyte, 1)])\n"
     ]
    }
   ],
   "source": [
    "# Load libraries\n",
    "from sklearn import preprocessing\n",
    "import numpy as np\n",
    "# Load libraries\n",
    "from keras import models\n",
    "from keras import layers\n"
   ]
  },
  {
   "cell_type": "code",
   "execution_count": 2,
   "metadata": {},
   "outputs": [],
   "source": [
    "# Load libraries\n",
    "import numpy as np\n",
    "from keras.datasets import imdb\n",
    "from keras.preprocessing.text import Tokenizer\n",
    "from keras import models\n",
    "from keras import layers\n",
    "from keras.callbacks import EarlyStopping, ModelCheckpoint"
   ]
  },
  {
   "cell_type": "code",
   "execution_count": 3,
   "metadata": {},
   "outputs": [],
   "source": [
    "# Set random seed\n",
    "np.random.seed(0)\n",
    "# Set the number of features we want\n",
    "number_of_features = 1000\n"
   ]
  },
  {
   "cell_type": "code",
   "execution_count": 4,
   "metadata": {},
   "outputs": [
    {
     "name": "stderr",
     "output_type": "stream",
     "text": [
      "/anaconda3/lib/python3.6/site-packages/keras/datasets/imdb.py:99: VisibleDeprecationWarning: Creating an ndarray from ragged nested sequences (which is a list-or-tuple of lists-or-tuples-or ndarrays with different lengths or shapes) is deprecated. If you meant to do this, you must specify 'dtype=object' when creating the ndarray\n",
      "  x_train, y_train = np.array(xs[:idx]), np.array(labels[:idx])\n",
      "/anaconda3/lib/python3.6/site-packages/keras/datasets/imdb.py:100: VisibleDeprecationWarning: Creating an ndarray from ragged nested sequences (which is a list-or-tuple of lists-or-tuples-or ndarrays with different lengths or shapes) is deprecated. If you meant to do this, you must specify 'dtype=object' when creating the ndarray\n",
      "  x_test, y_test = np.array(xs[idx:]), np.array(labels[idx:])\n"
     ]
    }
   ],
   "source": [
    "# save np.load\n",
    "np_load_old = np.load\n",
    "# modify the default parameters of np.load\n",
    "np.load = lambda *a,**k: np_load_old(*a, allow_pickle=True, **k)\n",
    "\n",
    "# Load data and target vector from movie review data\n",
    "(data_train, target_train), (data_test, target_test) = imdb.load_data(num_words=number_of_features)\n",
    "np.load = np_load_old\n",
    "# Convert movie review data to one-hot encoded feature matrix\n",
    "tokenizer = Tokenizer(num_words=number_of_features)\n",
    "features_train = tokenizer.sequences_to_matrix(data_train, mode=\"binary\")\n",
    "features_test = tokenizer.sequences_to_matrix(data_test, mode=\"binary\")\n"
   ]
  },
  {
   "cell_type": "code",
   "execution_count": 5,
   "metadata": {},
   "outputs": [],
   "source": [
    "# Start neural network\n",
    "network = models.Sequential()\n",
    "# Add a dropout layer for input layer\n",
    "network.add(layers.Dropout(0.2, input_shape=(number_of_features,)))\n",
    "# Add fully connected layer with a ReLU activation function\n",
    "network.add(layers.Dense(units=16, activation=\"relu\"))\n",
    "# Add a dropout layer for previous hidden layer\n",
    "network.add(layers.Dropout(0.5))\n",
    "# Add fully connected layer with a ReLU activation function\n",
    "network.add(layers.Dense(units=16, activation=\"relu\"))\n",
    "# Add a dropout layer for previous hidden layer\n",
    "network.add(layers.Dropout(0.5))\n",
    "# Add fully connected layer with a sigmoid activation function\n",
    "network.add(layers.Dense(units=1, activation=\"sigmoid\"))\n",
    "# Compile neural network\n",
    "network.compile(loss=\"binary_crossentropy\", # Cross-entropy\n",
    "optimizer=\"rmsprop\", # Root Mean Square Propagation\n",
    "metrics=[\"accuracy\"]) # Accuracy performance metric"
   ]
  },
  {
   "cell_type": "code",
   "execution_count": 6,
   "metadata": {},
   "outputs": [],
   "source": [
    "# Set callback functions to early stop training and save the best model so far\n",
    "checkpoint = [ModelCheckpoint(filepath=\"models.hdf5\")]"
   ]
  },
  {
   "cell_type": "code",
   "execution_count": 7,
   "metadata": {},
   "outputs": [
    {
     "name": "stdout",
     "output_type": "stream",
     "text": [
      "Train on 25000 samples, validate on 25000 samples\n",
      "Epoch 1/20\n",
      "25000/25000 [==============================] - 2s 63us/step - loss: 0.6378 - acc: 0.6242 - val_loss: 0.5140 - val_acc: 0.8228\n",
      "Epoch 2/20\n",
      "25000/25000 [==============================] - 1s 46us/step - loss: 0.5094 - acc: 0.7737 - val_loss: 0.3945 - val_acc: 0.8462\n",
      "Epoch 3/20\n",
      "25000/25000 [==============================] - 1s 41us/step - loss: 0.4604 - acc: 0.8038 - val_loss: 0.3631 - val_acc: 0.8549\n",
      "Epoch 4/20\n",
      "25000/25000 [==============================] - 2s 63us/step - loss: 0.4324 - acc: 0.8185 - val_loss: 0.3454 - val_acc: 0.8584\n",
      "Epoch 5/20\n",
      "25000/25000 [==============================] - 1s 50us/step - loss: 0.4238 - acc: 0.8222 - val_loss: 0.3384 - val_acc: 0.8599\n",
      "Epoch 6/20\n",
      "25000/25000 [==============================] - 1s 49us/step - loss: 0.4114 - acc: 0.8298 - val_loss: 0.3370 - val_acc: 0.8608\n",
      "Epoch 7/20\n",
      "25000/25000 [==============================] - 1s 53us/step - loss: 0.4022 - acc: 0.8349 - val_loss: 0.3363 - val_acc: 0.8597\n",
      "Epoch 8/20\n",
      "25000/25000 [==============================] - 2s 71us/step - loss: 0.4021 - acc: 0.8351 - val_loss: 0.3358 - val_acc: 0.8605\n",
      "Epoch 9/20\n",
      "25000/25000 [==============================] - 2s 69us/step - loss: 0.4025 - acc: 0.8366 - val_loss: 0.3352 - val_acc: 0.8586\n",
      "Epoch 10/20\n",
      "25000/25000 [==============================] - 2s 62us/step - loss: 0.3980 - acc: 0.8388 - val_loss: 0.3395 - val_acc: 0.8590\n",
      "Epoch 11/20\n",
      "25000/25000 [==============================] - 1s 50us/step - loss: 0.3964 - acc: 0.8399 - val_loss: 0.3351 - val_acc: 0.8607\n",
      "Epoch 12/20\n",
      "25000/25000 [==============================] - 1s 52us/step - loss: 0.3940 - acc: 0.8412 - val_loss: 0.3382 - val_acc: 0.8599\n",
      "Epoch 13/20\n",
      "25000/25000 [==============================] - 1s 44us/step - loss: 0.3966 - acc: 0.8396 - val_loss: 0.3438 - val_acc: 0.8584\n",
      "Epoch 14/20\n",
      "25000/25000 [==============================] - 1s 46us/step - loss: 0.3942 - acc: 0.8413 - val_loss: 0.3385 - val_acc: 0.8589\n",
      "Epoch 15/20\n",
      "25000/25000 [==============================] - 1s 49us/step - loss: 0.3910 - acc: 0.8439 - val_loss: 0.3386 - val_acc: 0.8586\n",
      "Epoch 16/20\n",
      "25000/25000 [==============================] - 1s 49us/step - loss: 0.3934 - acc: 0.8393 - val_loss: 0.3404 - val_acc: 0.8589\n",
      "Epoch 17/20\n",
      "25000/25000 [==============================] - 1s 49us/step - loss: 0.3940 - acc: 0.8429 - val_loss: 0.3366 - val_acc: 0.8576\n",
      "Epoch 18/20\n",
      "25000/25000 [==============================] - 1s 49us/step - loss: 0.3894 - acc: 0.8434 - val_loss: 0.3413 - val_acc: 0.8582\n",
      "Epoch 19/20\n",
      "25000/25000 [==============================] - 1s 50us/step - loss: 0.3939 - acc: 0.8428 - val_loss: 0.3395 - val_acc: 0.8564\n",
      "Epoch 20/20\n",
      "25000/25000 [==============================] - 1s 49us/step - loss: 0.3895 - acc: 0.8432 - val_loss: 0.3409 - val_acc: 0.8574\n"
     ]
    }
   ],
   "source": [
    "# Train neural network\n",
    "history = network.fit(features_train, # Features\n",
    "target_train, # Target vector\n",
    "epochs=20, # Number of epochs\n",
    "callbacks=checkpoint, # Checkpoint                      \n",
    "verbose=1, # Print description after each epoch\n",
    "batch_size=100, # Number of observations per batch\n",
    "validation_data=(features_test, target_test)) # Test data"
   ]
  },
  {
   "cell_type": "markdown",
   "metadata": {},
   "source": [
    "# Visualizing Neural Networks"
   ]
  },
  {
   "cell_type": "code",
   "execution_count": 8,
   "metadata": {},
   "outputs": [],
   "source": [
    "from IPython.display import SVG\n",
    "from keras.utils.vis_utils import model_to_dot\n",
    "from keras.utils import plot_model"
   ]
  },
  {
   "cell_type": "code",
   "execution_count": 9,
   "metadata": {},
   "outputs": [
    {
     "data": {
      "image/svg+xml": [
       "<svg height=\"539pt\" viewBox=\"0.00 0.00 333.23 539.00\" width=\"333pt\" xmlns=\"http://www.w3.org/2000/svg\" xmlns:xlink=\"http://www.w3.org/1999/xlink\">\n",
       "<g class=\"graph\" id=\"graph0\" transform=\"scale(1 1) rotate(0) translate(4 535)\">\n",
       "<title>G</title>\n",
       "<polygon fill=\"#ffffff\" points=\"-4,4 -4,-535 329.2314,-535 329.2314,4 -4,4\" stroke=\"transparent\"/>\n",
       "<!-- 112169278264 -->\n",
       "<g class=\"node\" id=\"node1\">\n",
       "<title>112169278264</title>\n",
       "<polygon fill=\"none\" points=\"0,-486.5 0,-530.5 325.2314,-530.5 325.2314,-486.5 0,-486.5\" stroke=\"#000000\"/>\n",
       "<text fill=\"#000000\" font-family=\"Times,serif\" font-size=\"14.00\" text-anchor=\"middle\" x=\"89.457\" y=\"-504.3\">dropout_1_input: InputLayer</text>\n",
       "<polyline fill=\"none\" points=\"178.9141,-486.5 178.9141,-530.5 \" stroke=\"#000000\"/>\n",
       "<text fill=\"#000000\" font-family=\"Times,serif\" font-size=\"14.00\" text-anchor=\"middle\" x=\"206.7485\" y=\"-515.3\">input:</text>\n",
       "<polyline fill=\"none\" points=\"178.9141,-508.5 234.583,-508.5 \" stroke=\"#000000\"/>\n",
       "<text fill=\"#000000\" font-family=\"Times,serif\" font-size=\"14.00\" text-anchor=\"middle\" x=\"206.7485\" y=\"-493.3\">output:</text>\n",
       "<polyline fill=\"none\" points=\"234.583,-486.5 234.583,-530.5 \" stroke=\"#000000\"/>\n",
       "<text fill=\"#000000\" font-family=\"Times,serif\" font-size=\"14.00\" text-anchor=\"middle\" x=\"279.9072\" y=\"-515.3\">(None, 1000)</text>\n",
       "<polyline fill=\"none\" points=\"234.583,-508.5 325.2314,-508.5 \" stroke=\"#000000\"/>\n",
       "<text fill=\"#000000\" font-family=\"Times,serif\" font-size=\"14.00\" text-anchor=\"middle\" x=\"279.9072\" y=\"-493.3\">(None, 1000)</text>\n",
       "</g>\n",
       "<!-- 112169279272 -->\n",
       "<g class=\"node\" id=\"node2\">\n",
       "<title>112169279272</title>\n",
       "<polygon fill=\"none\" points=\"25.6553,-405.5 25.6553,-449.5 299.5762,-449.5 299.5762,-405.5 25.6553,-405.5\" stroke=\"#000000\"/>\n",
       "<text fill=\"#000000\" font-family=\"Times,serif\" font-size=\"14.00\" text-anchor=\"middle\" x=\"89.457\" y=\"-423.3\">dropout_1: Dropout</text>\n",
       "<polyline fill=\"none\" points=\"153.2588,-405.5 153.2588,-449.5 \" stroke=\"#000000\"/>\n",
       "<text fill=\"#000000\" font-family=\"Times,serif\" font-size=\"14.00\" text-anchor=\"middle\" x=\"181.0933\" y=\"-434.3\">input:</text>\n",
       "<polyline fill=\"none\" points=\"153.2588,-427.5 208.9277,-427.5 \" stroke=\"#000000\"/>\n",
       "<text fill=\"#000000\" font-family=\"Times,serif\" font-size=\"14.00\" text-anchor=\"middle\" x=\"181.0933\" y=\"-412.3\">output:</text>\n",
       "<polyline fill=\"none\" points=\"208.9277,-405.5 208.9277,-449.5 \" stroke=\"#000000\"/>\n",
       "<text fill=\"#000000\" font-family=\"Times,serif\" font-size=\"14.00\" text-anchor=\"middle\" x=\"254.252\" y=\"-434.3\">(None, 1000)</text>\n",
       "<polyline fill=\"none\" points=\"208.9277,-427.5 299.5762,-427.5 \" stroke=\"#000000\"/>\n",
       "<text fill=\"#000000\" font-family=\"Times,serif\" font-size=\"14.00\" text-anchor=\"middle\" x=\"254.252\" y=\"-412.3\">(None, 1000)</text>\n",
       "</g>\n",
       "<!-- 112169278264&#45;&gt;112169279272 -->\n",
       "<g class=\"edge\" id=\"edge1\">\n",
       "<title>112169278264-&gt;112169279272</title>\n",
       "<path d=\"M162.6157,-486.3664C162.6157,-478.1516 162.6157,-468.6579 162.6157,-459.7252\" fill=\"none\" stroke=\"#000000\"/>\n",
       "<polygon fill=\"#000000\" points=\"166.1158,-459.6068 162.6157,-449.6068 159.1158,-459.6069 166.1158,-459.6068\" stroke=\"#000000\"/>\n",
       "</g>\n",
       "<!-- 112169278096 -->\n",
       "<g class=\"node\" id=\"node3\">\n",
       "<title>112169278096</title>\n",
       "<polygon fill=\"none\" points=\"37.3311,-324.5 37.3311,-368.5 287.9004,-368.5 287.9004,-324.5 37.3311,-324.5\" stroke=\"#000000\"/>\n",
       "<text fill=\"#000000\" font-family=\"Times,serif\" font-size=\"14.00\" text-anchor=\"middle\" x=\"89.457\" y=\"-342.3\">dense_1: Dense</text>\n",
       "<polyline fill=\"none\" points=\"141.583,-324.5 141.583,-368.5 \" stroke=\"#000000\"/>\n",
       "<text fill=\"#000000\" font-family=\"Times,serif\" font-size=\"14.00\" text-anchor=\"middle\" x=\"169.4175\" y=\"-353.3\">input:</text>\n",
       "<polyline fill=\"none\" points=\"141.583,-346.5 197.252,-346.5 \" stroke=\"#000000\"/>\n",
       "<text fill=\"#000000\" font-family=\"Times,serif\" font-size=\"14.00\" text-anchor=\"middle\" x=\"169.4175\" y=\"-331.3\">output:</text>\n",
       "<polyline fill=\"none\" points=\"197.252,-324.5 197.252,-368.5 \" stroke=\"#000000\"/>\n",
       "<text fill=\"#000000\" font-family=\"Times,serif\" font-size=\"14.00\" text-anchor=\"middle\" x=\"242.5762\" y=\"-353.3\">(None, 1000)</text>\n",
       "<polyline fill=\"none\" points=\"197.252,-346.5 287.9004,-346.5 \" stroke=\"#000000\"/>\n",
       "<text fill=\"#000000\" font-family=\"Times,serif\" font-size=\"14.00\" text-anchor=\"middle\" x=\"242.5762\" y=\"-331.3\">(None, 16)</text>\n",
       "</g>\n",
       "<!-- 112169279272&#45;&gt;112169278096 -->\n",
       "<g class=\"edge\" id=\"edge2\">\n",
       "<title>112169279272-&gt;112169278096</title>\n",
       "<path d=\"M162.6157,-405.3664C162.6157,-397.1516 162.6157,-387.6579 162.6157,-378.7252\" fill=\"none\" stroke=\"#000000\"/>\n",
       "<polygon fill=\"#000000\" points=\"166.1158,-378.6068 162.6157,-368.6068 159.1158,-378.6069 166.1158,-378.6068\" stroke=\"#000000\"/>\n",
       "</g>\n",
       "<!-- 112169278824 -->\n",
       "<g class=\"node\" id=\"node4\">\n",
       "<title>112169278824</title>\n",
       "<polygon fill=\"none\" points=\"32.6553,-243.5 32.6553,-287.5 292.5762,-287.5 292.5762,-243.5 32.6553,-243.5\" stroke=\"#000000\"/>\n",
       "<text fill=\"#000000\" font-family=\"Times,serif\" font-size=\"14.00\" text-anchor=\"middle\" x=\"96.457\" y=\"-261.3\">dropout_2: Dropout</text>\n",
       "<polyline fill=\"none\" points=\"160.2588,-243.5 160.2588,-287.5 \" stroke=\"#000000\"/>\n",
       "<text fill=\"#000000\" font-family=\"Times,serif\" font-size=\"14.00\" text-anchor=\"middle\" x=\"188.0933\" y=\"-272.3\">input:</text>\n",
       "<polyline fill=\"none\" points=\"160.2588,-265.5 215.9277,-265.5 \" stroke=\"#000000\"/>\n",
       "<text fill=\"#000000\" font-family=\"Times,serif\" font-size=\"14.00\" text-anchor=\"middle\" x=\"188.0933\" y=\"-250.3\">output:</text>\n",
       "<polyline fill=\"none\" points=\"215.9277,-243.5 215.9277,-287.5 \" stroke=\"#000000\"/>\n",
       "<text fill=\"#000000\" font-family=\"Times,serif\" font-size=\"14.00\" text-anchor=\"middle\" x=\"254.252\" y=\"-272.3\">(None, 16)</text>\n",
       "<polyline fill=\"none\" points=\"215.9277,-265.5 292.5762,-265.5 \" stroke=\"#000000\"/>\n",
       "<text fill=\"#000000\" font-family=\"Times,serif\" font-size=\"14.00\" text-anchor=\"middle\" x=\"254.252\" y=\"-250.3\">(None, 16)</text>\n",
       "</g>\n",
       "<!-- 112169278096&#45;&gt;112169278824 -->\n",
       "<g class=\"edge\" id=\"edge3\">\n",
       "<title>112169278096-&gt;112169278824</title>\n",
       "<path d=\"M162.6157,-324.3664C162.6157,-316.1516 162.6157,-306.6579 162.6157,-297.7252\" fill=\"none\" stroke=\"#000000\"/>\n",
       "<polygon fill=\"#000000\" points=\"166.1158,-297.6068 162.6157,-287.6068 159.1158,-297.6069 166.1158,-297.6068\" stroke=\"#000000\"/>\n",
       "</g>\n",
       "<!-- 112353237648 -->\n",
       "<g class=\"node\" id=\"node5\">\n",
       "<title>112353237648</title>\n",
       "<polygon fill=\"none\" points=\"44.3311,-162.5 44.3311,-206.5 280.9004,-206.5 280.9004,-162.5 44.3311,-162.5\" stroke=\"#000000\"/>\n",
       "<text fill=\"#000000\" font-family=\"Times,serif\" font-size=\"14.00\" text-anchor=\"middle\" x=\"96.457\" y=\"-180.3\">dense_2: Dense</text>\n",
       "<polyline fill=\"none\" points=\"148.583,-162.5 148.583,-206.5 \" stroke=\"#000000\"/>\n",
       "<text fill=\"#000000\" font-family=\"Times,serif\" font-size=\"14.00\" text-anchor=\"middle\" x=\"176.4175\" y=\"-191.3\">input:</text>\n",
       "<polyline fill=\"none\" points=\"148.583,-184.5 204.252,-184.5 \" stroke=\"#000000\"/>\n",
       "<text fill=\"#000000\" font-family=\"Times,serif\" font-size=\"14.00\" text-anchor=\"middle\" x=\"176.4175\" y=\"-169.3\">output:</text>\n",
       "<polyline fill=\"none\" points=\"204.252,-162.5 204.252,-206.5 \" stroke=\"#000000\"/>\n",
       "<text fill=\"#000000\" font-family=\"Times,serif\" font-size=\"14.00\" text-anchor=\"middle\" x=\"242.5762\" y=\"-191.3\">(None, 16)</text>\n",
       "<polyline fill=\"none\" points=\"204.252,-184.5 280.9004,-184.5 \" stroke=\"#000000\"/>\n",
       "<text fill=\"#000000\" font-family=\"Times,serif\" font-size=\"14.00\" text-anchor=\"middle\" x=\"242.5762\" y=\"-169.3\">(None, 16)</text>\n",
       "</g>\n",
       "<!-- 112169278824&#45;&gt;112353237648 -->\n",
       "<g class=\"edge\" id=\"edge4\">\n",
       "<title>112169278824-&gt;112353237648</title>\n",
       "<path d=\"M162.6157,-243.3664C162.6157,-235.1516 162.6157,-225.6579 162.6157,-216.7252\" fill=\"none\" stroke=\"#000000\"/>\n",
       "<polygon fill=\"#000000\" points=\"166.1158,-216.6068 162.6157,-206.6068 159.1158,-216.6069 166.1158,-216.6068\" stroke=\"#000000\"/>\n",
       "</g>\n",
       "<!-- 112353237872 -->\n",
       "<g class=\"node\" id=\"node6\">\n",
       "<title>112353237872</title>\n",
       "<polygon fill=\"none\" points=\"32.6553,-81.5 32.6553,-125.5 292.5762,-125.5 292.5762,-81.5 32.6553,-81.5\" stroke=\"#000000\"/>\n",
       "<text fill=\"#000000\" font-family=\"Times,serif\" font-size=\"14.00\" text-anchor=\"middle\" x=\"96.457\" y=\"-99.3\">dropout_3: Dropout</text>\n",
       "<polyline fill=\"none\" points=\"160.2588,-81.5 160.2588,-125.5 \" stroke=\"#000000\"/>\n",
       "<text fill=\"#000000\" font-family=\"Times,serif\" font-size=\"14.00\" text-anchor=\"middle\" x=\"188.0933\" y=\"-110.3\">input:</text>\n",
       "<polyline fill=\"none\" points=\"160.2588,-103.5 215.9277,-103.5 \" stroke=\"#000000\"/>\n",
       "<text fill=\"#000000\" font-family=\"Times,serif\" font-size=\"14.00\" text-anchor=\"middle\" x=\"188.0933\" y=\"-88.3\">output:</text>\n",
       "<polyline fill=\"none\" points=\"215.9277,-81.5 215.9277,-125.5 \" stroke=\"#000000\"/>\n",
       "<text fill=\"#000000\" font-family=\"Times,serif\" font-size=\"14.00\" text-anchor=\"middle\" x=\"254.252\" y=\"-110.3\">(None, 16)</text>\n",
       "<polyline fill=\"none\" points=\"215.9277,-103.5 292.5762,-103.5 \" stroke=\"#000000\"/>\n",
       "<text fill=\"#000000\" font-family=\"Times,serif\" font-size=\"14.00\" text-anchor=\"middle\" x=\"254.252\" y=\"-88.3\">(None, 16)</text>\n",
       "</g>\n",
       "<!-- 112353237648&#45;&gt;112353237872 -->\n",
       "<g class=\"edge\" id=\"edge5\">\n",
       "<title>112353237648-&gt;112353237872</title>\n",
       "<path d=\"M162.6157,-162.3664C162.6157,-154.1516 162.6157,-144.6579 162.6157,-135.7252\" fill=\"none\" stroke=\"#000000\"/>\n",
       "<polygon fill=\"#000000\" points=\"166.1158,-135.6068 162.6157,-125.6068 159.1158,-135.6069 166.1158,-135.6068\" stroke=\"#000000\"/>\n",
       "</g>\n",
       "<!-- 112364754424 -->\n",
       "<g class=\"node\" id=\"node7\">\n",
       "<title>112364754424</title>\n",
       "<polygon fill=\"none\" points=\"44.3311,-.5 44.3311,-44.5 280.9004,-44.5 280.9004,-.5 44.3311,-.5\" stroke=\"#000000\"/>\n",
       "<text fill=\"#000000\" font-family=\"Times,serif\" font-size=\"14.00\" text-anchor=\"middle\" x=\"96.457\" y=\"-18.3\">dense_3: Dense</text>\n",
       "<polyline fill=\"none\" points=\"148.583,-.5 148.583,-44.5 \" stroke=\"#000000\"/>\n",
       "<text fill=\"#000000\" font-family=\"Times,serif\" font-size=\"14.00\" text-anchor=\"middle\" x=\"176.4175\" y=\"-29.3\">input:</text>\n",
       "<polyline fill=\"none\" points=\"148.583,-22.5 204.252,-22.5 \" stroke=\"#000000\"/>\n",
       "<text fill=\"#000000\" font-family=\"Times,serif\" font-size=\"14.00\" text-anchor=\"middle\" x=\"176.4175\" y=\"-7.3\">output:</text>\n",
       "<polyline fill=\"none\" points=\"204.252,-.5 204.252,-44.5 \" stroke=\"#000000\"/>\n",
       "<text fill=\"#000000\" font-family=\"Times,serif\" font-size=\"14.00\" text-anchor=\"middle\" x=\"242.5762\" y=\"-29.3\">(None, 16)</text>\n",
       "<polyline fill=\"none\" points=\"204.252,-22.5 280.9004,-22.5 \" stroke=\"#000000\"/>\n",
       "<text fill=\"#000000\" font-family=\"Times,serif\" font-size=\"14.00\" text-anchor=\"middle\" x=\"242.5762\" y=\"-7.3\">(None, 1)</text>\n",
       "</g>\n",
       "<!-- 112353237872&#45;&gt;112364754424 -->\n",
       "<g class=\"edge\" id=\"edge6\">\n",
       "<title>112353237872-&gt;112364754424</title>\n",
       "<path d=\"M162.6157,-81.3664C162.6157,-73.1516 162.6157,-63.6579 162.6157,-54.7252\" fill=\"none\" stroke=\"#000000\"/>\n",
       "<polygon fill=\"#000000\" points=\"166.1158,-54.6068 162.6157,-44.6068 159.1158,-54.6069 166.1158,-54.6068\" stroke=\"#000000\"/>\n",
       "</g>\n",
       "</g>\n",
       "</svg>"
      ],
      "text/plain": [
       "<IPython.core.display.SVG object>"
      ]
     },
     "execution_count": 9,
     "metadata": {},
     "output_type": "execute_result"
    }
   ],
   "source": [
    "# Visualize network architecture\n",
    "SVG(model_to_dot(network, show_shapes=True).create(prog=\"dot\", format=\"svg\"))"
   ]
  },
  {
   "cell_type": "code",
   "execution_count": null,
   "metadata": {},
   "outputs": [],
   "source": []
  }
 ],
 "metadata": {
  "kernelspec": {
   "display_name": "Python 3",
   "language": "python",
   "name": "python3"
  },
  "language_info": {
   "codemirror_mode": {
    "name": "ipython",
    "version": 3
   },
   "file_extension": ".py",
   "mimetype": "text/x-python",
   "name": "python",
   "nbconvert_exporter": "python",
   "pygments_lexer": "ipython3",
   "version": "3.6.10"
  }
 },
 "nbformat": 4,
 "nbformat_minor": 4
}
